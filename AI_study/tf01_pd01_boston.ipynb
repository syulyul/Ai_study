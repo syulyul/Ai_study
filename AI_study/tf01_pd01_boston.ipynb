{
 "cells": [
  {
   "cell_type": "code",
   "execution_count": 1,
   "id": "1457d97c",
   "metadata": {},
   "outputs": [],
   "source": [
    "import numpy as np\n",
    "import pandas as pd\n",
    "from keras.models import Sequential\n",
    "from keras.layers import Dense\n",
    "from sklearn.model_selection import train_test_split\n",
    "from sklearn.metrics import r2_score"
   ]
  },
  {
   "cell_type": "code",
   "execution_count": 4,
   "id": "92c90333",
   "metadata": {},
   "outputs": [
    {
     "name": "stdout",
     "output_type": "stream",
     "text": [
      "Index(['crim', 'zn', 'indus', 'chas', 'nox', 'rm', 'age', 'dis', 'rad', 'tax',\n",
      "       'ptratio', 'lstat'],\n",
      "      dtype='object')\n",
      "Index(['medv'], dtype='object')\n",
      "      crim    zn  indus  chas    nox     rm   age     dis  rad  tax  ptratio  \\\n",
      "0  0.00632  18.0   2.31     0  0.538  6.575  65.2  4.0900    1  296     15.3   \n",
      "1  0.02731   0.0   7.07     0  0.469  6.421  78.9  4.9671    2  242     17.8   \n",
      "2  0.03237   0.0   2.18     0  0.458  6.998  45.8  6.0622    3  222     18.7   \n",
      "3  0.06905   0.0   2.18     0  0.458  7.147  54.2  6.0622    3  222     18.7   \n",
      "4  0.08829  12.5   7.87     0  0.524  6.012  66.6  5.5605    5  311     15.2   \n",
      "5  0.22489  12.5   7.87     0  0.524  6.377  94.3  6.3467    5  311     15.2   \n",
      "6  0.11747  12.5   7.87     0  0.524  6.009  82.9  6.2267    5  311     15.2   \n",
      "\n",
      "   lstat  \n",
      "0   4.98  \n",
      "1   9.14  \n",
      "2   2.94  \n",
      "3   5.33  \n",
      "4  12.43  \n",
      "5  20.45  \n",
      "6  13.27  \n"
     ]
    }
   ],
   "source": [
    "# 1. 데이터\n",
    "path = './_data/'\n",
    "x_train = pd.read_csv(path + 'train-data.csv')\n",
    "y_train = pd.read_csv(path + 'train-target.csv')\n",
    "x_test = pd.read_csv(path + 'test-data.csv')\n",
    "y_test = pd.read_csv(path + 'test-target.csv')\n",
    "\n",
    "print(x_train.columns)\n",
    "print(y_train.columns)\n",
    "print(x_train.head(7))  # default = 5"
   ]
  },
  {
   "cell_type": "code",
   "execution_count": null,
   "id": "b0a2edd7",
   "metadata": {},
   "outputs": [],
   "source": []
  }
 ],
 "metadata": {
  "kernelspec": {
   "display_name": "Python 3",
   "language": "python",
   "name": "python3"
  },
  "language_info": {
   "codemirror_mode": {
    "name": "ipython",
    "version": 3
   },
   "file_extension": ".py",
   "mimetype": "text/x-python",
   "name": "python",
   "nbconvert_exporter": "python",
   "pygments_lexer": "ipython3",
   "version": "3.8.8"
  }
 },
 "nbformat": 4,
 "nbformat_minor": 5
}
