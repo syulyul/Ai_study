{
 "cells": [
  {
   "cell_type": "code",
   "execution_count": 24,
   "id": "163fb49b",
   "metadata": {},
   "outputs": [],
   "source": [
    "# pip install numpy==1.19.5 # numpy 버전 이슈로 LSTM 실행이 안됨"
   ]
  },
  {
   "cell_type": "code",
   "execution_count": 25,
   "id": "e1b4ba48",
   "metadata": {},
   "outputs": [],
   "source": [
    "import numpy as np\n",
    "from keras.models import Sequential\n",
    "from keras.layers import Dense, LSTM, Embedding, Dropout\n",
    "from keras.datasets import reuters\n",
    "from keras.preprocessing.sequence import pad_sequences\n",
    "import time"
   ]
  },
  {
   "cell_type": "code",
   "execution_count": 26,
   "id": "6078cf71",
   "metadata": {},
   "outputs": [
    {
     "name": "stdout",
     "output_type": "stream",
     "text": [
      "(8982,) (2246,)\n"
     ]
    }
   ],
   "source": [
    "(x_train, y_train), (x_test, y_test) = reuters.load_data(\n",
    "    num_words = 10000\n",
    ")\n",
    "\n",
    "print(x_train.shape, x_test.shape)"
   ]
  },
  {
   "cell_type": "code",
   "execution_count": 27,
   "id": "84e99a27",
   "metadata": {},
   "outputs": [
    {
     "name": "stdout",
     "output_type": "stream",
     "text": [
      "(8982,) (2246,)\n",
      "46\n"
     ]
    }
   ],
   "source": [
    "# print(np.unique(y_train, return_counts=True))   # 데이터 확인\n",
    "print(x_train.shape, x_test.shape)\n",
    "print(len(np.unique(y_train)))  # 46"
   ]
  },
  {
   "cell_type": "code",
   "execution_count": 28,
   "id": "f22e045d",
   "metadata": {},
   "outputs": [
    {
     "name": "stdout",
     "output_type": "stream",
     "text": [
      "뉴스 기사의 최대 길이 :  2376\n",
      "뉴스 기사의 평균 길이 :  145.5398574927633\n"
     ]
    }
   ],
   "source": [
    "print('뉴스 기사의 최대 길이 : ', max(len(i) for i in x_train))\n",
    "print('뉴스 기사의 평균 길이 : ', sum(map(len, x_train)) / len(x_train))"
   ]
  },
  {
   "cell_type": "code",
   "execution_count": 29,
   "id": "d19cf209",
   "metadata": {},
   "outputs": [],
   "source": [
    "#pad_sequences\n",
    "x_train = pad_sequences(x_train, padding = 'pre', maxlen = 100)\n",
    "x_test = pad_sequences(x_test, padding='pre', maxlen = 100)"
   ]
  },
  {
   "cell_type": "code",
   "execution_count": 30,
   "id": "67af7941",
   "metadata": {},
   "outputs": [
    {
     "name": "stdout",
     "output_type": "stream",
     "text": [
      "(8982, 100) (8982,)\n",
      "(2246, 100) (2246,)\n"
     ]
    }
   ],
   "source": [
    "print(x_train.shape, y_train.shape)\n",
    "print(x_test.shape, y_test.shape)"
   ]
  },
  {
   "cell_type": "code",
   "execution_count": 31,
   "id": "b812540d",
   "metadata": {},
   "outputs": [
    {
     "name": "stdout",
     "output_type": "stream",
     "text": [
      "Model: \"sequential_2\"\n",
      "_________________________________________________________________\n",
      "Layer (type)                 Output Shape              Param #   \n",
      "=================================================================\n",
      "embedding_2 (Embedding)      (None, None, 100)         1000000   \n",
      "_________________________________________________________________\n",
      "lstm_2 (LSTM)                (None, 128)               117248    \n",
      "_________________________________________________________________\n",
      "dropout_4 (Dropout)          (None, 128)               0         \n",
      "_________________________________________________________________\n",
      "dense_8 (Dense)              (None, 64)                8256      \n",
      "_________________________________________________________________\n",
      "dropout_5 (Dropout)          (None, 64)                0         \n",
      "_________________________________________________________________\n",
      "dense_9 (Dense)              (None, 64)                4160      \n",
      "_________________________________________________________________\n",
      "dropout_6 (Dropout)          (None, 64)                0         \n",
      "_________________________________________________________________\n",
      "dense_10 (Dense)             (None, 32)                2080      \n",
      "_________________________________________________________________\n",
      "dropout_7 (Dropout)          (None, 32)                0         \n",
      "_________________________________________________________________\n",
      "dense_11 (Dense)             (None, 46)                1518      \n",
      "=================================================================\n",
      "Total params: 1,133,262\n",
      "Trainable params: 1,133,262\n",
      "Non-trainable params: 0\n",
      "_________________________________________________________________\n"
     ]
    }
   ],
   "source": [
    "# 2. 모델 구성\n",
    "model = Sequential()\n",
    "model.add(Embedding(input_dim = 10000,\n",
    "                   output_dim = 100))  # maxlen = 100\n",
    "model.add(LSTM(128, activation='relu'))\n",
    "model.add(Dropout(0.25))\n",
    "model.add(Dense(64, activation='relu'))\n",
    "model.add(Dropout(0.25))\n",
    "model.add(Dense(64, activation='relu'))\n",
    "model.add(Dropout(0.25))\n",
    "model.add(Dense(32, activation='relu'))\n",
    "model.add(Dropout(0.25))\n",
    "model.add(Dense(46, activation='softmax'))   # 다중분류 이므로 softmax\n",
    "\n",
    "model.summary()"
   ]
  },
  {
   "cell_type": "code",
   "execution_count": 34,
   "id": "62e94ec3",
   "metadata": {},
   "outputs": [
    {
     "name": "stdout",
     "output_type": "stream",
     "text": [
      "Epoch 1/50\n",
      "29/29 [==============================] - ETA: 0s - loss: 9247157248.0000 - accuracy: 0.3449\n",
      "Epoch 00001: val_loss improved from inf to 2.35302, saving model to ./_mcp/embedding_reuter.hdf5\n",
      "29/29 [==============================] - 14s 472ms/step - loss: 9247157248.0000 - accuracy: 0.3449 - val_loss: 2.3530 - val_accuracy: 0.3450\n",
      "Epoch 2/50\n",
      "29/29 [==============================] - ETA: 0s - loss: 2.3583 - accuracy: 0.3478\n",
      "Epoch 00002: val_loss did not improve from 2.35302\n",
      "29/29 [==============================] - 14s 468ms/step - loss: 2.3583 - accuracy: 0.3478 - val_loss: 9.7856 - val_accuracy: 0.3472\n",
      "Epoch 3/50\n",
      "29/29 [==============================] - ETA: 0s - loss: 2060780288.0000 - accuracy: 0.3740\n",
      "Epoch 00003: val_loss did not improve from 2.35302\n",
      "29/29 [==============================] - 14s 484ms/step - loss: 2060780288.0000 - accuracy: 0.3740 - val_loss: 3443.6812 - val_accuracy: 0.3795\n",
      "Epoch 4/50\n",
      "29/29 [==============================] - ETA: 0s - loss: 931489.7500 - accuracy: 0.3784\n",
      "Epoch 00004: val_loss improved from 2.35302 to 2.12855, saving model to ./_mcp/embedding_reuter.hdf5\n",
      "29/29 [==============================] - 13s 443ms/step - loss: 931489.7500 - accuracy: 0.3784 - val_loss: 2.1286 - val_accuracy: 0.3890\n",
      "Epoch 5/50\n",
      "29/29 [==============================] - ETA: 0s - loss: 2.1292 - accuracy: 0.4008\n",
      "Epoch 00005: val_loss improved from 2.12855 to 2.10002, saving model to ./_mcp/embedding_reuter.hdf5\n",
      "29/29 [==============================] - 16s 563ms/step - loss: 2.1292 - accuracy: 0.4008 - val_loss: 2.1000 - val_accuracy: 0.4007\n",
      "Epoch 6/50\n",
      "29/29 [==============================] - ETA: 0s - loss: 2.0815 - accuracy: 0.4104\n",
      "Epoch 00006: val_loss improved from 2.10002 to 2.07372, saving model to ./_mcp/embedding_reuter.hdf5\n",
      "29/29 [==============================] - 14s 489ms/step - loss: 2.0815 - accuracy: 0.4104 - val_loss: 2.0737 - val_accuracy: 0.4185\n",
      "Epoch 7/50\n",
      "29/29 [==============================] - ETA: 0s - loss: 44.0157 - accuracy: 0.4228\n",
      "Epoch 00007: val_loss did not improve from 2.07372\n",
      "29/29 [==============================] - 13s 440ms/step - loss: 44.0157 - accuracy: 0.4228 - val_loss: 2.1231 - val_accuracy: 0.4296\n",
      "Epoch 8/50\n",
      "29/29 [==============================] - ETA: 0s - loss: 2.0086 - accuracy: 0.4381\n",
      "Epoch 00008: val_loss did not improve from 2.07372\n",
      "29/29 [==============================] - 13s 432ms/step - loss: 2.0086 - accuracy: 0.4381 - val_loss: 6.2348 - val_accuracy: 0.4335\n",
      "Epoch 9/50\n",
      "29/29 [==============================] - ETA: 0s - loss: 1.9748 - accuracy: 0.4505\n",
      "Epoch 00009: val_loss did not improve from 2.07372\n",
      "29/29 [==============================] - 13s 446ms/step - loss: 1.9748 - accuracy: 0.4505 - val_loss: 17.4580 - val_accuracy: 0.4430\n",
      "Epoch 10/50\n",
      "29/29 [==============================] - ETA: 0s - loss: 129.3176 - accuracy: 0.4632\n",
      "Epoch 00010: val_loss did not improve from 2.07372\n",
      "29/29 [==============================] - 13s 451ms/step - loss: 129.3176 - accuracy: 0.4632 - val_loss: 169.6776 - val_accuracy: 0.4435\n",
      "Epoch 11/50\n",
      "29/29 [==============================] - ETA: 0s - loss: 532.7974 - accuracy: 0.4682\n",
      "Epoch 00011: val_loss did not improve from 2.07372\n",
      "29/29 [==============================] - 14s 496ms/step - loss: 532.7974 - accuracy: 0.4682 - val_loss: 686.1823 - val_accuracy: 0.4446\n",
      "Epoch 12/50\n",
      "29/29 [==============================] - ETA: 0s - loss: 4.8052 - accuracy: 0.4803\n",
      "Epoch 00012: val_loss did not improve from 2.07372\n",
      "29/29 [==============================] - 14s 498ms/step - loss: 4.8052 - accuracy: 0.4803 - val_loss: 273.3611 - val_accuracy: 0.4430\n",
      "Epoch 13/50\n",
      "29/29 [==============================] - ETA: 0s - loss: 1.8694 - accuracy: 0.4864\n",
      "Epoch 00013: val_loss did not improve from 2.07372\n",
      "29/29 [==============================] - 13s 463ms/step - loss: 1.8694 - accuracy: 0.4864 - val_loss: 499.1523 - val_accuracy: 0.4446\n",
      "Epoch 14/50\n",
      "29/29 [==============================] - ETA: 0s - loss: 1.9194 - accuracy: 0.4932\n",
      "Epoch 00014: val_loss did not improve from 2.07372\n",
      "29/29 [==============================] - 13s 465ms/step - loss: 1.9194 - accuracy: 0.4932 - val_loss: 647.6287 - val_accuracy: 0.4474\n",
      "Epoch 15/50\n",
      "29/29 [==============================] - ETA: 0s - loss: 95918.7031 - accuracy: 0.4997\n",
      "Epoch 00015: val_loss improved from 2.07372 to 2.04949, saving model to ./_mcp/embedding_reuter.hdf5\n",
      "29/29 [==============================] - 14s 482ms/step - loss: 95918.7031 - accuracy: 0.4997 - val_loss: 2.0495 - val_accuracy: 0.4441\n",
      "Epoch 16/50\n",
      "29/29 [==============================] - ETA: 0s - loss: 174152.8750 - accuracy: 0.4992\n",
      "Epoch 00016: val_loss did not improve from 2.04949\n",
      "29/29 [==============================] - 12s 421ms/step - loss: 174152.8750 - accuracy: 0.4992 - val_loss: 2.0636 - val_accuracy: 0.4508\n",
      "Epoch 17/50\n",
      "29/29 [==============================] - ETA: 0s - loss: 1.8417 - accuracy: 0.5081\n",
      "Epoch 00017: val_loss did not improve from 2.04949\n",
      "29/29 [==============================] - 13s 451ms/step - loss: 1.8417 - accuracy: 0.5081 - val_loss: 2.0731 - val_accuracy: 0.4508\n",
      "Epoch 18/50\n",
      "29/29 [==============================] - ETA: 0s - loss: 1.8224 - accuracy: 0.5136\n",
      "Epoch 00018: val_loss did not improve from 2.04949\n",
      "29/29 [==============================] - 13s 458ms/step - loss: 1.8224 - accuracy: 0.5136 - val_loss: 2.0793 - val_accuracy: 0.4535\n",
      "Epoch 19/50\n",
      "29/29 [==============================] - ETA: 0s - loss: 2.3032 - accuracy: 0.5187\n",
      "Epoch 00019: val_loss did not improve from 2.04949\n",
      "29/29 [==============================] - 13s 448ms/step - loss: 2.3032 - accuracy: 0.5187 - val_loss: 2.0899 - val_accuracy: 0.4541\n",
      "Epoch 20/50\n",
      "29/29 [==============================] - ETA: 0s - loss: 1.7873 - accuracy: 0.5215\n",
      "Epoch 00020: val_loss did not improve from 2.04949\n",
      "29/29 [==============================] - 13s 435ms/step - loss: 1.7873 - accuracy: 0.5215 - val_loss: 2.0966 - val_accuracy: 0.4530\n",
      "Epoch 21/50\n",
      "29/29 [==============================] - ETA: 0s - loss: 16.4180 - accuracy: 0.5257\n",
      "Epoch 00021: val_loss did not improve from 2.04949\n",
      "29/29 [==============================] - 13s 452ms/step - loss: 16.4180 - accuracy: 0.5257 - val_loss: 2.1094 - val_accuracy: 0.4508\n",
      "Epoch 22/50\n",
      "29/29 [==============================] - ETA: 0s - loss: 1.7606 - accuracy: 0.5332\n",
      "Epoch 00022: val_loss did not improve from 2.04949\n",
      "29/29 [==============================] - 13s 433ms/step - loss: 1.7606 - accuracy: 0.5332 - val_loss: 2.1229 - val_accuracy: 0.4519\n",
      "Epoch 23/50\n",
      "29/29 [==============================] - ETA: 0s - loss: 1.7402 - accuracy: 0.5418\n",
      "Epoch 00023: val_loss did not improve from 2.04949\n",
      "29/29 [==============================] - 13s 435ms/step - loss: 1.7402 - accuracy: 0.5418 - val_loss: 2.1326 - val_accuracy: 0.4541\n",
      "Epoch 24/50\n",
      "29/29 [==============================] - ETA: 0s - loss: 1.7378 - accuracy: 0.5393\n",
      "Epoch 00024: val_loss did not improve from 2.04949\n",
      "29/29 [==============================] - 13s 434ms/step - loss: 1.7378 - accuracy: 0.5393 - val_loss: 2.1446 - val_accuracy: 0.4513\n",
      "Epoch 25/50\n",
      "29/29 [==============================] - ETA: 0s - loss: 1.7175 - accuracy: 0.5424Restoring model weights from the end of the best epoch.\n",
      "\n",
      "Epoch 00025: val_loss did not improve from 2.04949\n",
      "29/29 [==============================] - 13s 444ms/step - loss: 1.7175 - accuracy: 0.5424 - val_loss: 2.1694 - val_accuracy: 0.4519\n",
      "Epoch 00025: early stopping\n"
     ]
    }
   ],
   "source": [
    "# 3. 컴파일, 훈련\n",
    "model.compile(loss='sparse_categorical_crossentropy',\n",
    "             optimizer='adam',\n",
    "             metrics='accuracy')\n",
    "\n",
    "## EarlyStopping\n",
    "from keras.callbacks import EarlyStopping, ModelCheckpoint\n",
    "\n",
    "# Model Check Point\n",
    "mcp = ModelCheckpoint(\n",
    "    monitor='val_loss',\n",
    "    mode='auto',\n",
    "    verbose=1,\n",
    "    # save_weights_only=False,\n",
    "    save_best_only=True,\n",
    "    filepath='./_mcp/embedding_reuter.hdf5'\n",
    ")\n",
    "\n",
    "earlyStopping = EarlyStopping(monitor='val_loss', patience=10, mode='min',  # mode='auto'가 기본, patience=100 --> 100부터 줄여나가기\n",
    "                              verbose=1, restore_best_weights=True) # restore_best_weights --> default 는 False 이므로 True 로 꼭!!! 변경!!!  \n",
    "\n",
    "start_time = time.time()    # 시작 시간\n",
    "\n",
    "model.fit(x_train, y_train, epochs=50, batch_size=256,\n",
    "         validation_split=0.2, callbacks=[earlyStopping, mcp])\n",
    "\n",
    "end_time = time.time() - start_time\n"
   ]
  },
  {
   "cell_type": "code",
   "execution_count": 33,
   "id": "783ae6a7",
   "metadata": {},
   "outputs": [
    {
     "name": "stdout",
     "output_type": "stream",
     "text": [
      "71/71 [==============================] - 4s 58ms/step - loss: 2.4042 - accuracy: 0.3620\n",
      "loss :  2.404205799102783\n",
      "acc :  0.36197686195373535\n"
     ]
    }
   ],
   "source": [
    "# 4. 평가, 예측\n",
    "loss, acc = model.evaluate(x_test, y_test)\n",
    "print('loss : ', loss)\n",
    "print('acc : ', acc)"
   ]
  },
  {
   "cell_type": "code",
   "execution_count": null,
   "id": "4b266fcc",
   "metadata": {},
   "outputs": [],
   "source": []
  }
 ],
 "metadata": {
  "kernelspec": {
   "display_name": "Python 3",
   "language": "python",
   "name": "python3"
  },
  "language_info": {
   "codemirror_mode": {
    "name": "ipython",
    "version": 3
   },
   "file_extension": ".py",
   "mimetype": "text/x-python",
   "name": "python",
   "nbconvert_exporter": "python",
   "pygments_lexer": "ipython3",
   "version": "3.8.8"
  }
 },
 "nbformat": 4,
 "nbformat_minor": 5
}
