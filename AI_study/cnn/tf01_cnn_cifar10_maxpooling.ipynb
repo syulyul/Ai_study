{
 "cells": [
  {
   "cell_type": "code",
   "execution_count": 49,
   "id": "4cfaeeee",
   "metadata": {},
   "outputs": [],
   "source": [
    "import numpy as np\n",
    "from keras.models import Sequential\n",
    "from keras.layers import Dense, Flatten, Conv2D, MaxPooling2D, Dropout\n",
    "from keras.datasets import cifar10\n",
    "import time"
   ]
  },
  {
   "cell_type": "code",
   "execution_count": 50,
   "id": "af0f885e",
   "metadata": {},
   "outputs": [
    {
     "name": "stdout",
     "output_type": "stream",
     "text": [
      "(50000, 32, 32, 3) (50000, 1)\n",
      "(10000, 32, 32, 3) (10000, 1)\n"
     ]
    }
   ],
   "source": [
    "# 1. 데이터\n",
    "(x_train, y_train), (x_test, y_test) = cifar10.load_data()\n",
    "print(x_train.shape, y_train.shape)\n",
    "print(x_test.shape, y_test.shape)\n",
    "# reshape 필요없음"
   ]
  },
  {
   "cell_type": "code",
   "execution_count": 51,
   "id": "b5a0fa6d",
   "metadata": {},
   "outputs": [],
   "source": [
    "# 정규화(Normalization)\n",
    "x_train = x_train/255.0\n",
    "x_test = x_test/255.0"
   ]
  },
  {
   "cell_type": "code",
   "execution_count": 52,
   "id": "40441823",
   "metadata": {},
   "outputs": [],
   "source": [
    "# 2. 모델구성\n",
    "model = Sequential()\n",
    "model.add(Conv2D(filters=64, kernel_size=(3, 3),\n",
    "                padding='same',\n",
    "                activation='relu',\n",
    "                input_shape=(32, 32, 3)))  # 이미지 사이즈, 컬러\n",
    "model.add(MaxPooling2D(2, 2))\n",
    "model.add(Dropout(0.25))\n",
    "model.add(Conv2D(32, (3, 3), padding='same', activation='relu'))\n",
    "model.add(MaxPooling2D(2, 2))\n",
    "model.add(Dropout(0.25))\n",
    "model.add(Flatten())\n",
    "model.add(Dense(128, activation='relu'))\n",
    "model.add(Dense(64, activation='relu'))\n",
    "model.add(Dense(32, activation='relu'))\n",
    "model.add(Dense(10, activation='softmax'))\n"
   ]
  },
  {
   "cell_type": "code",
   "execution_count": null,
   "id": "648424fa",
   "metadata": {},
   "outputs": [
    {
     "name": "stdout",
     "output_type": "stream",
     "text": [
      "Epoch 1/20\n",
      "391/391 [==============================] - 47s 121ms/step - loss: 1.7473 - accuracy: 0.3588\n",
      "Epoch 2/20\n",
      "391/391 [==============================] - 42s 108ms/step - loss: 1.3580 - accuracy: 0.5115\n",
      "Epoch 3/20\n",
      "391/391 [==============================] - 42s 108ms/step - loss: 1.2292 - accuracy: 0.5620\n",
      "Epoch 4/20\n",
      "193/391 [=============>................] - ETA: 23s - loss: 1.1513 - accuracy: 0.5909"
     ]
    }
   ],
   "source": [
    "# 3. 컴파일, 훈련\n",
    "model.compile(loss='sparse_categorical_crossentropy',\n",
    "             optimizer='adam',\n",
    "             metrics=['accuracy'])\n",
    "\n",
    "start_time = time.time()\n",
    "\n",
    "model.fit(x_train, y_train, epochs=20, batch_size=128)  # batch_size : 2의 제곱승\n",
    "end_time = time.time() - start_time"
   ]
  },
  {
   "cell_type": "code",
   "execution_count": null,
   "id": "8d1203c0",
   "metadata": {},
   "outputs": [],
   "source": [
    "# 4. 평가, 예측\n",
    "loss, acc = model.evaluate(x_test, y_test)\n",
    "print('걸린 시간 : ', end_time)\n",
    "print('loss : ', loss)\n",
    "print('acc : ', acc)"
   ]
  },
  {
   "cell_type": "code",
   "execution_count": null,
   "id": "3d989706",
   "metadata": {},
   "outputs": [],
   "source": []
  }
 ],
 "metadata": {
  "kernelspec": {
   "display_name": "Python 3",
   "language": "python",
   "name": "python3"
  },
  "language_info": {
   "codemirror_mode": {
    "name": "ipython",
    "version": 3
   },
   "file_extension": ".py",
   "mimetype": "text/x-python",
   "name": "python",
   "nbconvert_exporter": "python",
   "pygments_lexer": "ipython3",
   "version": "3.8.8"
  }
 },
 "nbformat": 4,
 "nbformat_minor": 5
}
