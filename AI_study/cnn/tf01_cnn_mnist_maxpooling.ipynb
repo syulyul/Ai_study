{
 "cells": [
  {
   "cell_type": "code",
   "execution_count": 37,
   "id": "d1be29bd",
   "metadata": {},
   "outputs": [],
   "source": [
    "import numpy as np\n",
    "from keras.datasets import mnist\n",
    "from keras.models import Sequential\n",
    "from keras.layers import Dense, Flatten, Conv2D, MaxPooling2D, Dropout"
   ]
  },
  {
   "cell_type": "code",
   "execution_count": 38,
   "id": "d3884ebe",
   "metadata": {},
   "outputs": [],
   "source": [
    "# 1. 데이터\n",
    "datasets = mnist\n",
    "(x_train, y_train), (x_test, y_test) = datasets.load_data()\n",
    "# print(datasets.load_data())\n",
    "\n",
    "# 정규화 (Normalization) => 0 ~ 1 사이로 숫자 변환\n",
    "x_train, x_test = x_train/255.0, x_test/255.0"
   ]
  },
  {
   "cell_type": "code",
   "execution_count": 39,
   "id": "25ff3211",
   "metadata": {},
   "outputs": [],
   "source": [
    "# 합성곱 레이어 전 차원 수 맞춰주기\n",
    "x_train = x_train.reshape(60000, 28, 28, 1)\n",
    "x_test = x_test.reshape(10000, 28, 28, 1)"
   ]
  },
  {
   "cell_type": "code",
   "execution_count": 40,
   "id": "c527675d",
   "metadata": {},
   "outputs": [],
   "source": [
    "# 2. 모델 구성\n",
    "model = Sequential()\n",
    "model.add(Conv2D(filters=32, kernel_size=(4, 4),\n",
    "                 activation='relu',\n",
    "                input_shape=(28, 28, 1)))\n",
    "model.add(MaxPooling2D(2, 2))\n",
    "model.add(Dropout(0.2))\n",
    "model.add(Conv2D(64, (3, 3), activation='relu'))\n",
    "model.add(Flatten())\n",
    "model.add(Dense(256, activation='relu'))\n",
    "model.add(Dense(128, activation='relu'))\n",
    "model.add(Dense(10, activation='softmax'))  #mnist -> 10개 / 다중 구성 : softmax"
   ]
  },
  {
   "cell_type": "code",
   "execution_count": 41,
   "id": "7e40e2c2",
   "metadata": {},
   "outputs": [
    {
     "name": "stdout",
     "output_type": "stream",
     "text": [
      "Epoch 1/10\n",
      "235/235 [==============================] - 23s 96ms/step - loss: 0.2344 - accuracy: 0.9291\n",
      "Epoch 2/10\n",
      "235/235 [==============================] - 21s 89ms/step - loss: 0.0586 - accuracy: 0.9819\n",
      "Epoch 3/10\n",
      "235/235 [==============================] - 20s 87ms/step - loss: 0.0383 - accuracy: 0.9883\n",
      "Epoch 4/10\n",
      "235/235 [==============================] - 21s 88ms/step - loss: 0.0290 - accuracy: 0.9907\n",
      "Epoch 5/10\n",
      "235/235 [==============================] - 21s 90ms/step - loss: 0.0232 - accuracy: 0.9923\n",
      "Epoch 6/10\n",
      "235/235 [==============================] - 21s 91ms/step - loss: 0.0190 - accuracy: 0.9940\n",
      "Epoch 7/10\n",
      "235/235 [==============================] - 20s 85ms/step - loss: 0.0141 - accuracy: 0.9954\n",
      "Epoch 8/10\n",
      "235/235 [==============================] - 21s 89ms/step - loss: 0.0122 - accuracy: 0.9961\n",
      "Epoch 9/10\n",
      "235/235 [==============================] - 23s 96ms/step - loss: 0.0110 - accuracy: 0.9965\n",
      "Epoch 10/10\n",
      "235/235 [==============================] - 23s 96ms/step - loss: 0.0101 - accuracy: 0.9966\n"
     ]
    },
    {
     "data": {
      "text/plain": [
       "<tensorflow.python.keras.callbacks.History at 0x7fa00583dd00>"
      ]
     },
     "execution_count": 41,
     "metadata": {},
     "output_type": "execute_result"
    }
   ],
   "source": [
    "# 3. 컴파일, 훈련\n",
    "model.compile(loss='sparse_categorical_crossentropy',\n",
    "             optimizer='adam',\n",
    "             metrics=['accuracy'])\n",
    "model.fit(x_train, y_train, epochs=10, batch_size=256)"
   ]
  },
  {
   "cell_type": "code",
   "execution_count": 42,
   "id": "51caf967",
   "metadata": {},
   "outputs": [
    {
     "name": "stdout",
     "output_type": "stream",
     "text": [
      "313/313 [==============================] - 11s 36ms/step - loss: 0.0396 - accuracy: 0.9883\n",
      "loss :  0.03955009579658508\n",
      "acc :  0.9883000254631042\n"
     ]
    }
   ],
   "source": [
    "# 4. 평가, 예측\n",
    "loss, acc = model.evaluate(x_test, y_test)\n",
    "print('loss : ', loss)\n",
    "print('acc : ', acc)"
   ]
  }
 ],
 "metadata": {
  "kernelspec": {
   "display_name": "Python 3",
   "language": "python",
   "name": "python3"
  },
  "language_info": {
   "codemirror_mode": {
    "name": "ipython",
    "version": 3
   },
   "file_extension": ".py",
   "mimetype": "text/x-python",
   "name": "python",
   "nbconvert_exporter": "python",
   "pygments_lexer": "ipython3",
   "version": "3.8.8"
  }
 },
 "nbformat": 4,
 "nbformat_minor": 5
}
