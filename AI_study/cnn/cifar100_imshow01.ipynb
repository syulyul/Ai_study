{
 "cells": [
  {
   "cell_type": "code",
   "execution_count": 16,
   "id": "1c9b30a9",
   "metadata": {},
   "outputs": [
    {
     "name": "stdout",
     "output_type": "stream",
     "text": [
      "Downloading data from https://www.cs.toronto.edu/~kriz/cifar-100-python.tar.gz\n",
      "169009152/169001437 [==============================] - 43s 0us/step\n",
      "(50000, 32, 32, 3) (50000, 1)\n",
      "(10000, 32, 32, 3) (10000, 1)\n",
      "[[[255 255 255]\n",
      "  [255 255 255]\n",
      "  [255 255 255]\n",
      "  ...\n",
      "  [195 205 193]\n",
      "  [212 224 204]\n",
      "  [182 194 167]]\n",
      "\n",
      " [[255 255 255]\n",
      "  [254 254 254]\n",
      "  [254 254 254]\n",
      "  ...\n",
      "  [170 176 150]\n",
      "  [161 168 130]\n",
      "  [146 154 113]]\n",
      "\n",
      " [[255 255 255]\n",
      "  [254 254 254]\n",
      "  [255 255 255]\n",
      "  ...\n",
      "  [189 199 169]\n",
      "  [166 178 130]\n",
      "  [121 133  87]]\n",
      "\n",
      " ...\n",
      "\n",
      " [[148 185  79]\n",
      "  [142 182  57]\n",
      "  [140 179  60]\n",
      "  ...\n",
      "  [ 30  17   1]\n",
      "  [ 65  62  15]\n",
      "  [ 76  77  20]]\n",
      "\n",
      " [[122 157  66]\n",
      "  [120 155  58]\n",
      "  [126 160  71]\n",
      "  ...\n",
      "  [ 22  16   3]\n",
      "  [ 97 112  56]\n",
      "  [141 161  87]]\n",
      "\n",
      " [[ 87 122  41]\n",
      "  [ 88 122  39]\n",
      "  [101 134  56]\n",
      "  ...\n",
      "  [ 34  36  10]\n",
      "  [105 133  59]\n",
      "  [138 173  79]]]\n",
      "[19]\n"
     ]
    }
   ],
   "source": [
    "import numpy as np\n",
    "from keras.datasets import cifar100\n",
    "\n",
    "(x_train, y_train), (x_test, y_test) = cifar100.load_data()  # x_train :이미지, y_train : 라벨\n",
    "\n",
    "print(x_train.shape, y_train.shape)\n",
    "print(x_test.shape, y_test.shape)\n",
    "\n",
    "print(x_train[0])\n",
    "print(y_train[0])"
   ]
  },
  {
   "cell_type": "code",
   "execution_count": 17,
   "id": "c9e296a6",
   "metadata": {},
   "outputs": [
    {
     "data": {
      "image/png": "[encoded data removed]",
      "text/plain": [
       "<Figure size 432x288 with 1 Axes>"
      ]
     },
     "metadata": {
      "needs_background": "light"
     },
     "output_type": "display_data"
    }
   ],
   "source": [
    "import matplotlib.pyplot as plt\n",
    "plt.imshow(x_train[0])\n",
    "plt.show()\n",
    "\n"
   ]
  }
 ],
 "metadata": {
  "kernelspec": {
   "display_name": "Python 3",
   "language": "python",
   "name": "python3"
  },
  "language_info": {
   "codemirror_mode": {
    "name": "ipython",
    "version": 3
   },
   "file_extension": ".py",
   "mimetype": "text/x-python",
   "name": "python",
   "nbconvert_exporter": "python",
   "pygments_lexer": "ipython3",
   "version": "3.8.8"
  }
 },
 "nbformat": 4,
 "nbformat_minor": 5
}
