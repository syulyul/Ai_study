{
 "cells": [
  {
   "cell_type": "code",
   "execution_count": 21,
   "id": "1e552e6c",
   "metadata": {},
   "outputs": [],
   "source": [
    "import numpy as np\n",
    "from keras.datasets import mnist\n",
    "from keras.models import Sequential\n",
    "from keras.layers import Dense, Flatten, Conv2D"
   ]
  },
  {
   "cell_type": "code",
   "execution_count": 22,
   "id": "2eb22dcd",
   "metadata": {},
   "outputs": [],
   "source": [
    "# 1. 데이터\n",
    "datasets = mnist\n",
    "(x_train, y_train), (x_test, y_test) = datasets.load_data()\n",
    "# print(datasets.load_data())\n",
    "\n",
    "# 정규화 (Normalization) => 0 ~ 1 사이로 숫자 변환\n",
    "x_train, x_test = x_train/255.0, x_test/255.0"
   ]
  },
  {
   "cell_type": "code",
   "execution_count": 23,
   "id": "4528ffbd",
   "metadata": {},
   "outputs": [],
   "source": [
    "# 합성곱 레이어 전 차원 수 맞춰주기\n",
    "x_train = x_train.reshape(60000, 28, 28, 1)\n",
    "x_test = x_test.reshape(10000, 28, 28, 1)"
   ]
  },
  {
   "cell_type": "code",
   "execution_count": 24,
   "id": "3f24262e",
   "metadata": {},
   "outputs": [],
   "source": [
    "# 2. 모델 구성\n",
    "model = Sequential()\n",
    "model.add(Conv2D(filters=32, kernel_size=(3, 3),\n",
    "                input_shape=(28, 28, 1)))\n",
    "model.add(Conv2D(64, (3, 3), activation='relu'))\n",
    "model.add(Flatten())\n",
    "model.add(Dense(256, activation='relu'))\n",
    "model.add(Dense(128, activation='relu'))\n",
    "model.add(Dense(10, activation='softmax'))  #mnist -> 10개 / 다중 구성 : softmax"
   ]
  },
  {
   "cell_type": "code",
   "execution_count": 25,
   "id": "b919bb51",
   "metadata": {},
   "outputs": [
    {
     "name": "stdout",
     "output_type": "stream",
     "text": [
      "Epoch 1/10\n",
      "235/235 [==============================] - 31s 132ms/step - loss: 0.1665 - accuracy: 0.9482\n",
      "Epoch 2/10\n",
      "235/235 [==============================] - 32s 135ms/step - loss: 0.0397 - accuracy: 0.9879\n",
      "Epoch 3/10\n",
      "235/235 [==============================] - 31s 133ms/step - loss: 0.0221 - accuracy: 0.9927\n",
      "Epoch 4/10\n",
      "235/235 [==============================] - 31s 132ms/step - loss: 0.0115 - accuracy: 0.9961\n",
      "Epoch 5/10\n",
      "235/235 [==============================] - 29s 125ms/step - loss: 0.0113 - accuracy: 0.9960\n",
      "Epoch 6/10\n",
      "235/235 [==============================] - 32s 134ms/step - loss: 0.0075 - accuracy: 0.9973\n",
      "Epoch 7/10\n",
      "235/235 [==============================] - 31s 130ms/step - loss: 0.0057 - accuracy: 0.9978\n",
      "Epoch 8/10\n",
      "235/235 [==============================] - 33s 142ms/step - loss: 0.0077 - accuracy: 0.9977\n",
      "Epoch 9/10\n",
      "235/235 [==============================] - 33s 140ms/step - loss: 0.0065 - accuracy: 0.9980\n",
      "Epoch 10/10\n",
      "235/235 [==============================] - 35s 149ms/step - loss: 0.0044 - accuracy: 0.9986\n"
     ]
    },
    {
     "data": {
      "text/plain": [
       "<tensorflow.python.keras.callbacks.History at 0x7fa005828940>"
      ]
     },
     "execution_count": 25,
     "metadata": {},
     "output_type": "execute_result"
    }
   ],
   "source": [
    "# 3. 컴파일, 훈련\n",
    "model.compile(loss='sparse_categorical_crossentropy',\n",
    "             optimizer='adam',\n",
    "             metrics=['accuracy'])\n",
    "model.fit(x_train, y_train, epochs=10, batch_size=256)"
   ]
  },
  {
   "cell_type": "code",
   "execution_count": 26,
   "id": "b9e066ce",
   "metadata": {},
   "outputs": [
    {
     "name": "stdout",
     "output_type": "stream",
     "text": [
      "313/313 [==============================] - 10s 32ms/step - loss: 0.0580 - accuracy: 0.9873\n",
      "loss :  0.058030109852552414\n",
      "acc :  0.9872999787330627\n"
     ]
    }
   ],
   "source": [
    "# 4. 평가, 예측\n",
    "loss, acc = model.evaluate(x_test, y_test)\n",
    "print('loss : ', loss)\n",
    "print('acc : ', acc)"
   ]
  }
 ],
 "metadata": {
  "kernelspec": {
   "display_name": "Python 3",
   "language": "python",
   "name": "python3"
  },
  "language_info": {
   "codemirror_mode": {
    "name": "ipython",
    "version": 3
   },
   "file_extension": ".py",
   "mimetype": "text/x-python",
   "name": "python",
   "nbconvert_exporter": "python",
   "pygments_lexer": "ipython3",
   "version": "3.8.8"
  }
 },
 "nbformat": 4,
 "nbformat_minor": 5
}
