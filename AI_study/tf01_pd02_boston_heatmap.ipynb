{
 "cells": [
  {
   "cell_type": "code",
   "execution_count": null,
   "id": "c96d7887",
   "metadata": {},
   "outputs": [],
   "source": [
    "import numpy as np\n",
    "import pandas as pd\n",
    "from keras.models import Sequential\n",
    "from keras.layers import Dense\n",
    "from sklearn.model_selection import train_test_split\n",
    "from sklearn.metrics import r2_score"
   ]
  },
  {
   "cell_type": "code",
   "execution_count": null,
   "id": "9ff6ca7a",
   "metadata": {},
   "outputs": [],
   "source": [
    "# 1. 데이터\n",
    "path = './_data/'\n",
    "datasets = pd.read_csv(path + 'Boston_house.csv')\n",
    "\n",
    "print(datasets.columns)\n",
    "print(datasets.head(7))  # default = 5"
   ]
  },
  {
   "cell_type": "code",
   "execution_count": null,
   "id": "c7cc48ab",
   "metadata": {},
   "outputs": [],
   "source": [
    "x = datasets[['AGE', 'B', 'RM', 'CRIM', 'DIS', 'INDUS', 'LSTAT', 'NOX', 'PTRATIO',\n",
    "       'RAD', 'ZN', 'TAX', 'CHAS']]\n",
    "y = datasets[['Target']]\n",
    "\n",
    "print(x.shape, y.shape)"
   ]
  },
  {
   "cell_type": "code",
   "execution_count": null,
   "id": "0ece3da0",
   "metadata": {},
   "outputs": [],
   "source": [
    "x_train, x_test, y_train, y_test = train_test_split(\n",
    "    x, y, test_size=0.2, shuffle=True, random_state=77\n",
    ")\n",
    "print(x_train.shape, y_train.shape)\n",
    "print(x_test.shape, y_test.shape)"
   ]
  },
  {
   "cell_type": "code",
   "execution_count": null,
   "id": "ccbcf0ca",
   "metadata": {},
   "outputs": [],
   "source": [
    "##### 상관계수 히트 맵 #####\n",
    "import matplotlib.pyplot as plt\n",
    "import seaborn as sns"
   ]
  },
  {
   "cell_type": "code",
   "execution_count": null,
   "id": "f1d91c7c",
   "metadata": {},
   "outputs": [],
   "source": [
    "# seaborn 안 되는 경우\n",
    "# pip install seaborn"
   ]
  },
  {
   "cell_type": "code",
   "execution_count": null,
   "id": "4ffd1a20",
   "metadata": {},
   "outputs": [],
   "source": [
    "sns.set(font_scale = 1.2)\n",
    "sns.set(rc = {'figure.figsize':(9, 6)})\n",
    "sns.heatmap(data = datasets.corr(),  # 상관관계\n",
    "            square = True,\n",
    "            annot = True,\n",
    "            cbar = True\n",
    "           )\n",
    "plt.show()"
   ]
  },
  {
   "cell_type": "code",
   "execution_count": null,
   "id": "a7501b88",
   "metadata": {},
   "outputs": [],
   "source": [
    "x_train = x_train.drop(['TAX', 'RAD'], axis=1)\n",
    "x_test = x_test.drop(['TAX', 'RAD'], axis=1)\n",
    "\n",
    "print(x_train.shape, x_test.shape)"
   ]
  },
  {
   "cell_type": "code",
   "execution_count": null,
   "id": "c38c6b79",
   "metadata": {},
   "outputs": [],
   "source": []
  }
 ],
 "metadata": {
  "kernelspec": {
   "display_name": "Python 3",
   "language": "python",
   "name": "python3"
  },
  "language_info": {
   "codemirror_mode": {
    "name": "ipython",
    "version": 3
   },
   "file_extension": ".py",
   "mimetype": "text/x-python",
   "name": "python",
   "nbconvert_exporter": "python",
   "pygments_lexer": "ipython3",
   "version": "3.8.8"
  }
 },
 "nbformat": 4,
 "nbformat_minor": 5
}
