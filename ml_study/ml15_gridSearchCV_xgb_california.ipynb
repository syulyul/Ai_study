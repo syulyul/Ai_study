{
 "cells": [
  {
   "cell_type": "code",
   "execution_count": 1,
   "id": "9f64cc8c",
   "metadata": {},
   "outputs": [
    {
     "name": "stdout",
     "output_type": "stream",
     "text": [
      "Requirement already satisfied: xgboost in /opt/conda/lib/python3.8/site-packages (1.7.5)\n",
      "Requirement already satisfied: numpy in /opt/conda/lib/python3.8/site-packages (from xgboost) (1.19.5)\n",
      "Requirement already satisfied: scipy in /opt/conda/lib/python3.8/site-packages (from xgboost) (1.6.2)\n",
      "Note: you may need to restart the kernel to use updated packages.\n"
     ]
    }
   ],
   "source": [
    "pip install xgboost"
   ]
  },
  {
   "cell_type": "code",
   "execution_count": 2,
   "id": "03421a0b",
   "metadata": {},
   "outputs": [],
   "source": [
    "import numpy as np\n",
    "from sklearn.metrics import r2_score\n",
    "from sklearn.datasets import fetch_california_housing\n",
    "from sklearn.model_selection import train_test_split, KFold\n",
    "from sklearn.model_selection import cross_val_score, cross_val_predict\n",
    "from sklearn.preprocessing import MinMaxScaler, StandardScaler\n",
    "from sklearn.preprocessing import MaxAbsScaler, RobustScaler\n",
    "\n",
    "import tensorflow as tf\n",
    "tf.random.set_seed(77)  # weight 의 난수값 조정"
   ]
  },
  {
   "cell_type": "code",
   "execution_count": 3,
   "id": "bbe8e637",
   "metadata": {},
   "outputs": [],
   "source": [
    "# 1. 데이터\n",
    "datasets = fetch_california_housing()  # 다중분류\n",
    "x = datasets['data']\n",
    "y = datasets.target\n",
    "\n",
    "x_train, x_test, y_train,y_test = train_test_split(\n",
    "    x, y, train_size=0.8, shuffle=True, random_state=42\n",
    "\n",
    ")\n",
    "# kfold\n",
    "n_splits = 5    # 보통 홀수로 들어감\n",
    "random_state = 42\n",
    "kfold = KFold(n_splits=n_splits, shuffle=True, \n",
    "              random_state=random_state)\n",
    "\n",
    "\n",
    "# Scaler\n",
    "scaler = MinMaxScaler()\n",
    "scaler.fit(x_train)                 # train 은 fit, transform 모두 해줘야 함\n",
    "x = scaler.transform(x_train) # train 은 fit, transform 모두 해줘야 함\n",
    "x = scaler.transform(x_test) "
   ]
  },
  {
   "cell_type": "code",
   "execution_count": 4,
   "id": "61ed4c1c",
   "metadata": {},
   "outputs": [],
   "source": [
    "# parameters\n",
    "param = {\n",
    "    'n_estimators': [100,200], #default 100 / 1~inf(무한대) / 정수\n",
    "    'learning_rate' : [0.1, 0.01], #default 0.3/ 0~1 / learning_rate는 eta라고 해도 적용됨\n",
    "    'max_depth' : [3,4,5], #default 3/ 0~inf(무한대) / 정수 => 소수점은 정수로 변환하여 적용해야 함\n",
    "    'gamma': [4], #default 0 / 0~inf\n",
    "    'min_child_weight': [0,0.1,0.5], #default 1 / 0~inf\n",
    "    'subsample' : [0,0.1,0.2], #default 1 / 0~1\n",
    "    'colsample_bytree' : [0,0.1], #default 1 / 0~1\n",
    "    'colsample_bylevel' : [0,0.1], #default 1 / 0~1\n",
    "    'colsample_bynode' : [0,0.1], #default 1 / 0~1\n",
    "    'reg_alpha' : [0, 0.1], #default 0 / 0~inf / L1 절대값 가중치 규제 / 그냥 alpha도 적용됨\n",
    "    'reg_lambda' : [1] #default 1 / 0~inf / L2 제곱 가중치 규제 / 그냥 lambda도 적용됨\n",
    "}"
   ]
  },
  {
   "cell_type": "code",
   "execution_count": 6,
   "id": "20bb4e30",
   "metadata": {},
   "outputs": [
    {
     "name": "stdout",
     "output_type": "stream",
     "text": [
      "Fitting 5 folds for each of 1728 candidates, totalling 8640 fits\n",
      "최적의 파라미터 :  {'colsample_bylevel': 0, 'colsample_bynode': 0, 'colsample_bytree': 0, 'gamma': 4, 'learning_rate': 0.1, 'max_depth': 5, 'min_child_weight': 0, 'n_estimators': 200, 'reg_alpha': 0.1, 'reg_lambda': 1, 'subsample': 0.2}\n",
      "최적의 매개변수 :  XGBRegressor(base_score=None, booster=None, callbacks=None, colsample_bylevel=0,\n",
      "             colsample_bynode=0, colsample_bytree=0, early_stopping_rounds=None,\n",
      "             enable_categorical=False, eval_metric=None, feature_types=None,\n",
      "             gamma=4, gpu_id=None, grow_policy=None, importance_type=None,\n",
      "             interaction_constraints=None, learning_rate=0.1, max_bin=None,\n",
      "             max_cat_threshold=None, max_cat_to_onehot=None,\n",
      "             max_delta_step=None, max_depth=5, max_leaves=None,\n",
      "             min_child_weight=0, missing=nan, monotone_constraints=None,\n",
      "             n_estimators=200, n_jobs=None, num_parallel_tree=None,\n",
      "             predictor=None, random_state=None, ...)\n",
      "best_score :  0.7228070642165891\n",
      "model_score :  0.7183154217397925\n",
      "걸린 시간 :  152.8253312110901 초\n"
     ]
    }
   ],
   "source": [
    "# 2. 모델\n",
    "from xgboost import XGBRegressor\n",
    "from sklearn.model_selection import GridSearchCV\n",
    "xgb = XGBRegressor()\n",
    "model = GridSearchCV(xgb, param, cv=kfold, \n",
    "                     refit=True, verbose=1, n_jobs=-1)\n",
    "\n",
    "\n",
    "# 3. 훈련\n",
    "import time\n",
    "start_time = time.time()\n",
    "model.fit(x_train, y_train)\n",
    "end_time = time.time() - start_time\n",
    "\n",
    "print('최적의 파라미터 : ', model.best_params_)\n",
    "print('최적의 매개변수 : ', model.best_estimator_)\n",
    "print('best_score : ', model.best_score_)       # 가장 좋은 score\n",
    "print('model_score : ', model.score(x_test, y_test))    # 실제 데이터를 넣었을 때의 socre\n",
    "print('걸린 시간 : ', end_time, '초')"
   ]
  },
  {
   "cell_type": "code",
   "execution_count": null,
   "id": "11f7c387",
   "metadata": {},
   "outputs": [],
   "source": [
    "# 4. 평가, 예측\n",
    "score = cross_val_score(model, \n",
    "                        x_train, y_train, \n",
    "                        cv=kfold)   # cv : corss validation\n",
    "# print('cv acc : ', score)   # kfold 에 있는 n_splits 숫자만큼 나옴 \n",
    "y_predict = cross_val_predict(model,\n",
    "                              x_test, y_test,\n",
    "                              cv=kfold)\n",
    "r2 = r2_score(y_test, y_predict)\n",
    "print('cv pred r2 : ', r2)"
   ]
  }
 ],
 "metadata": {
  "kernelspec": {
   "display_name": "Python 3",
   "language": "python",
   "name": "python3"
  },
  "language_info": {
   "codemirror_mode": {
    "name": "ipython",
    "version": 3
   },
   "file_extension": ".py",
   "mimetype": "text/x-python",
   "name": "python",
   "nbconvert_exporter": "python",
   "pygments_lexer": "ipython3",
   "version": "3.8.8"
  }
 },
 "nbformat": 4,
 "nbformat_minor": 5
}
