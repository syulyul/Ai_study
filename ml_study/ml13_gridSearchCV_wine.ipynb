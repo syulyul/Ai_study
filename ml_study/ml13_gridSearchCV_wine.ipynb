{
 "cells": [
  {
   "cell_type": "code",
   "execution_count": 1,
   "id": "add2c1a6",
   "metadata": {},
   "outputs": [],
   "source": [
    "import numpy as np\n",
    "from sklearn.ensemble import RandomForestClassifier\n",
    "from sklearn.metrics import accuracy_score\n",
    "from sklearn.model_selection import train_test_split, StratifiedKFold\n",
    "from sklearn.model_selection import cross_val_score, cross_val_predict\n",
    "from sklearn.datasets import load_wine\n",
    "from sklearn.preprocessing import MinMaxScaler\n",
    "\n",
    "import tensorflow as tf\n",
    "tf.random.set_seed(77)  # weight 의 난수값 조정"
   ]
  },
  {
   "cell_type": "code",
   "execution_count": 2,
   "id": "e6a160d8",
   "metadata": {},
   "outputs": [],
   "source": [
    "# 1. 데이터\n",
    "datasets = load_wine()  # 다중분류\n",
    "x = datasets['data']\n",
    "y = datasets.target\n",
    "\n",
    "x_train, x_test, y_train,y_test = train_test_split(\n",
    "    x, y, train_size=0.8, shuffle=True, random_state=42\n",
    ")\n",
    "\n",
    "# kfold\n",
    "n_splits = 5    # 보통 홀수로 들어감\n",
    "random_state = 42\n",
    "kfold = StratifiedKFold(n_splits=n_splits, shuffle=True, \n",
    "              random_state=random_state)\n",
    "\n",
    "\n",
    "# Scaler 적용\n",
    "scaler = MinMaxScaler()\n",
    "scaler.fit(x_train)                 # train 은 fit, transform 모두 해줘야 함\n",
    "x = scaler.transform(x_train)       # train 은 fit, transform 모두 해줘야 함\n",
    "x = scaler.transform(x_test) "
   ]
  },
  {
   "cell_type": "code",
   "execution_count": 3,
   "id": "9dbea4ae",
   "metadata": {},
   "outputs": [],
   "source": [
    "# [실습] 파라미터 튜닝 및 정리\n",
    "param = [\n",
    "    {'n_estimators' : [100, 200], 'max_depth':[6, 8, 10, 12], 'n_jobs' : [-1, 2, 4]},  \n",
    "    {'max_depth' : [6, 8, 10, 12], 'min_samples_split' : [2, 3, 5, 10]},\n",
    "    {'n_estimators' : [100, 200], 'min_samples_leaf' : [3, 5, 7, 10]},\n",
    "    {'min_samples_split' : [2, 3, 5, 10], 'n_jobs' : [-1, 2, 4]}, \n",
    "    {'n_estimators' : [100, 200],'n_jobs' : [-1, 2, 4]}\n",
    "]"
   ]
  },
  {
   "cell_type": "code",
   "execution_count": 5,
   "id": "52cf3532",
   "metadata": {},
   "outputs": [
    {
     "name": "stdout",
     "output_type": "stream",
     "text": [
      "Fitting 5 folds for each of 66 candidates, totalling 330 fits\n",
      "최적의 파라미터 :  {'max_depth': 8, 'min_samples_split': 10}\n",
      "최적의 매개변수 :  RandomForestClassifier(max_depth=8, min_samples_split=10)\n",
      "best_score :  0.9859605911330049\n",
      "model_score :  1.0\n",
      "걸린 시간 :  8.200336217880249 초\n"
     ]
    }
   ],
   "source": [
    "# 2. 모델\n",
    "from sklearn.model_selection import GridSearchCV\n",
    "rf_model = RandomForestClassifier()\n",
    "model = GridSearchCV(rf_model, param, cv=kfold, verbose=1,\n",
    "                     refit=True, n_jobs=-1)   # refit 는 False 가 default\n",
    "\n",
    "\n",
    "# 3. 훈련\n",
    "import time\n",
    "start_time = time.time()\n",
    "model.fit(x_train, y_train)\n",
    "end_time = time.time() - start_time\n",
    "\n",
    "\n",
    "print('최적의 파라미터 : ', model.best_params_)\n",
    "print('최적의 매개변수 : ', model.best_estimator_)\n",
    "print('best_score : ', model.best_score_)       # 가장 좋은 score\n",
    "print('model_score : ', model.score(x_test, y_test))    # 실제 데이터를 넣었을 때의 socre\n",
    "print('걸린 시간 : ', end_time, '초')\n"
   ]
  },
  {
   "cell_type": "code",
   "execution_count": null,
   "id": "363ebf6e",
   "metadata": {},
   "outputs": [],
   "source": []
  }
 ],
 "metadata": {
  "kernelspec": {
   "display_name": "Python 3",
   "language": "python",
   "name": "python3"
  },
  "language_info": {
   "codemirror_mode": {
    "name": "ipython",
    "version": 3
   },
   "file_extension": ".py",
   "mimetype": "text/x-python",
   "name": "python",
   "nbconvert_exporter": "python",
   "pygments_lexer": "ipython3",
   "version": "3.8.8"
  }
 },
 "nbformat": 4,
 "nbformat_minor": 5
}
